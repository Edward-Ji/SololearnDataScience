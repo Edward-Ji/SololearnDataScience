{
 "cells": [
  {
   "cell_type": "markdown",
   "metadata": {},
   "source": [
    "# Data Science with Python SOLOLEARN\n",
    "### Getting started with Numpy"
   ]
  },
  {
   "cell_type": "markdown",
   "metadata": {},
   "source": [
    "Data of past presidents of the United States"
   ]
  },
  {
   "cell_type": "code",
   "execution_count": 1,
   "metadata": {},
   "outputs": [],
   "source": [
    "heights = [189, 170, 189, 163, 183, 171, 185, 168, 173, 183, 173, 173, 175, 178, 183, 193, 178, 173, 174, 183, 183, 180, 168, 180, 170, 178, 182, 180, 183, 178, 182, 188, 175, 179, 183, 193, 182, 183, 177, 185, 188, 188, 182, 185, 191]"
   ]
  },
  {
   "cell_type": "code",
   "execution_count": 2,
   "metadata": {},
   "outputs": [
    {
     "name": "stdout",
     "output_type": "stream",
     "text": [
      "5\n"
     ]
    }
   ],
   "source": [
    "import numpy as np\n",
    "heights_arr = np.array(heights)\n",
    "print((heights_arr > 188).sum())"
   ]
  },
  {
   "cell_type": "markdown",
   "metadata": {},
   "source": [
    "`array.size` yields similar result as `len(list)`"
   ]
  },
  {
   "cell_type": "code",
   "execution_count": 3,
   "metadata": {},
   "outputs": [
    {
     "data": {
      "text/plain": [
       "45"
      ]
     },
     "execution_count": 3,
     "metadata": {},
     "output_type": "execute_result"
    }
   ],
   "source": [
    "heights_arr.size"
   ]
  },
  {
   "cell_type": "code",
   "execution_count": 4,
   "metadata": {},
   "outputs": [
    {
     "data": {
      "text/plain": [
       "(45,)"
      ]
     },
     "execution_count": 4,
     "metadata": {},
     "output_type": "execute_result"
    }
   ],
   "source": [
    "heights_arr.shape"
   ]
  },
  {
   "cell_type": "code",
   "execution_count": 5,
   "metadata": {},
   "outputs": [
    {
     "data": {
      "text/plain": [
       "1"
      ]
     },
     "execution_count": 5,
     "metadata": {},
     "output_type": "execute_result"
    }
   ],
   "source": [
    "heights_arr.ndim  # number of dimensions"
   ]
  },
  {
   "cell_type": "code",
   "execution_count": 6,
   "metadata": {},
   "outputs": [],
   "source": [
    "ages = [57, 61, 57, 57, 58, 57, 61, 54, 68, 51, 49, 64, 50, 48, 65, 52, 56, 46, 54, 49, 51, 47, 55, 55, 54, 42, 51, 56, 55, 51, 54, 51, 60, 62, 43, 55, 56, 61, 52, 69, 64, 46, 54, 47, 70]"
   ]
  },
  {
   "cell_type": "code",
   "execution_count": 7,
   "metadata": {},
   "outputs": [
    {
     "data": {
      "text/plain": [
       "array([[189, 170, 189, 163, 183, 171, 185, 168, 173, 183, 173, 173, 175,\n",
       "        178, 183, 193, 178, 173, 174, 183, 183, 180, 168, 180, 170, 178,\n",
       "        182, 180, 183, 178, 182, 188, 175, 179, 183, 193, 182, 183, 177,\n",
       "        185, 188, 188, 182, 185, 191],\n",
       "       [ 57,  61,  57,  57,  58,  57,  61,  54,  68,  51,  49,  64,  50,\n",
       "         48,  65,  52,  56,  46,  54,  49,  51,  47,  55,  55,  54,  42,\n",
       "         51,  56,  55,  51,  54,  51,  60,  62,  43,  55,  56,  61,  52,\n",
       "         69,  64,  46,  54,  47,  70]])"
      ]
     },
     "execution_count": 7,
     "metadata": {},
     "output_type": "execute_result"
    }
   ],
   "source": [
    "heights_and_ages = heights + ages\n",
    "heights_and_ages_arr = np.array(heights_and_ages)\n",
    "heights_and_ages_arr.reshape((2, 45))"
   ]
  },
  {
   "cell_type": "markdown",
   "metadata": {},
   "source": [
    "Use -1 as a placeholder for one dimension"
   ]
  },
  {
   "cell_type": "code",
   "execution_count": 8,
   "metadata": {},
   "outputs": [
    {
     "data": {
      "text/plain": [
       "array([[189, 170, 189, 163, 183, 171, 185, 168, 173, 183, 173, 173, 175,\n",
       "        178, 183, 193, 178, 173, 174, 183, 183, 180, 168, 180, 170, 178,\n",
       "        182, 180, 183, 178, 182, 188, 175, 179, 183, 193, 182, 183, 177,\n",
       "        185, 188, 188, 182, 185, 191],\n",
       "       [ 57,  61,  57,  57,  58,  57,  61,  54,  68,  51,  49,  64,  50,\n",
       "         48,  65,  52,  56,  46,  54,  49,  51,  47,  55,  55,  54,  42,\n",
       "         51,  56,  55,  51,  54,  51,  60,  62,  43,  55,  56,  61,  52,\n",
       "         69,  64,  46,  54,  47,  70]])"
      ]
     },
     "execution_count": 8,
     "metadata": {},
     "output_type": "execute_result"
    }
   ],
   "source": [
    "heights_and_ages_arr = heights_and_ages_arr.reshape((-1, 45))\n",
    "heights_and_ages_arr"
   ]
  },
  {
   "cell_type": "code",
   "execution_count": 9,
   "metadata": {},
   "outputs": [
    {
     "data": {
      "text/plain": [
       "dtype('int64')"
      ]
     },
     "execution_count": 9,
     "metadata": {},
     "output_type": "execute_result"
    }
   ],
   "source": [
    "heights_and_ages_arr.dtype"
   ]
  },
  {
   "cell_type": "markdown",
   "metadata": {},
   "source": [
    "Numpy arrays are **homogeneous**, which means all elements are of the same type"
   ]
  },
  {
   "cell_type": "code",
   "execution_count": 10,
   "metadata": {},
   "outputs": [],
   "source": [
    "heights_float = [189.0, 170, 189, 163, 183, 171, 185, 168, 173, 183, 173, 173, 175, 178, 183, 193, 178, 173, 174, 183, 183, 180, 168, 180, 170, 178, 182, 180, 183, 178, 182, 188, 175, 179, 183, 193, 182, 183, 177, 185, 188, 188, 182, 185, 191]"
   ]
  },
  {
   "cell_type": "code",
   "execution_count": 11,
   "metadata": {},
   "outputs": [
    {
     "name": "stdout",
     "output_type": "stream",
     "text": [
      "[189. 170. 189. 163. 183. 171. 185. 168. 173. 183. 173. 173. 175. 178.\n",
      " 183. 193. 178. 173. 174. 183. 183. 180. 168. 180. 170. 178. 182. 180.\n",
      " 183. 178. 182. 188. 175. 179. 183. 193. 182. 183. 177. 185. 188. 188.\n",
      " 182. 185. 191.]\n"
     ]
    },
    {
     "data": {
      "text/plain": [
       "dtype('float64')"
      ]
     },
     "execution_count": 11,
     "metadata": {},
     "output_type": "execute_result"
    }
   ],
   "source": [
    "heights_float_arr = np.array(heights_float)\n",
    "print(heights_float_arr)\n",
    "heights_float_arr.dtype"
   ]
  },
  {
   "cell_type": "markdown",
   "metadata": {},
   "source": [
    "Without special declaration, Numpy adapts data type to fit all the data\n",
    "---\n",
    "### Indexing and slicing"
   ]
  },
  {
   "cell_type": "code",
   "execution_count": 12,
   "metadata": {},
   "outputs": [
    {
     "data": {
      "text/plain": [
       "189"
      ]
     },
     "execution_count": 12,
     "metadata": {},
     "output_type": "execute_result"
    }
   ],
   "source": [
    "heights_arr[0]"
   ]
  },
  {
   "cell_type": "markdown",
   "metadata": {},
   "source": [
    "In a 2darray, there are two axes, axis 0 and 1. Axis 0 runs downward down the rows whereas axis 1 runs horizontally across the columns."
   ]
  },
  {
   "cell_type": "code",
   "execution_count": 13,
   "metadata": {},
   "outputs": [
    {
     "data": {
      "text/plain": [
       "57"
      ]
     },
     "execution_count": 13,
     "metadata": {},
     "output_type": "execute_result"
    }
   ],
   "source": [
    "heights_and_ages_arr[1,2]"
   ]
  },
  {
   "cell_type": "code",
   "execution_count": 14,
   "metadata": {},
   "outputs": [
    {
     "data": {
      "text/plain": [
       "array([189, 170, 189])"
      ]
     },
     "execution_count": 14,
     "metadata": {},
     "output_type": "execute_result"
    }
   ],
   "source": [
    "heights_and_ages_arr[0, 0:3]"
   ]
  },
  {
   "cell_type": "markdown",
   "metadata": {},
   "source": [
    "start from 0 can be omitted, which is equavalent to `heights_and_ages_arr[0, :3]`"
   ]
  },
  {
   "cell_type": "code",
   "execution_count": 15,
   "metadata": {},
   "outputs": [
    {
     "data": {
      "text/plain": [
       "array([189,  57])"
      ]
     },
     "execution_count": 15,
     "metadata": {},
     "output_type": "execute_result"
    }
   ],
   "source": [
    "heights_and_ages_arr[:, 0]"
   ]
  },
  {
   "cell_type": "markdown",
   "metadata": {},
   "source": [
    "Use `:` as a placeholder to see the entire line.\n",
    "Numpy slicing follows the conventions of Python list slicing."
   ]
  },
  {
   "cell_type": "markdown",
   "metadata": {},
   "source": [
    "### Assining values"
   ]
  },
  {
   "cell_type": "code",
   "execution_count": 16,
   "metadata": {},
   "outputs": [
    {
     "name": "stdout",
     "output_type": "stream",
     "text": [
      "[189 170 189 163 183 171 185 168 173 183 173 173 175 178 183 193 178 173\n",
      " 174 183 183 180 168 180 170 178 182 180 183 178 182 188 175 179 183 193\n",
      " 182 183 177 185 188 188 182 185 191]\n"
     ]
    },
    {
     "data": {
      "text/plain": [
       "array([189, 170, 189, 165, 183, 171, 185, 168, 173, 183, 173, 173, 175,\n",
       "       178, 183, 193, 178, 173, 174, 183, 183, 180, 168, 180, 170, 178,\n",
       "       182, 180, 183, 178, 182, 188, 175, 179, 183, 193, 182, 183, 177,\n",
       "       185, 188, 188, 182, 185, 191])"
      ]
     },
     "execution_count": 16,
     "metadata": {},
     "output_type": "execute_result"
    }
   ],
   "source": [
    "print(heights_arr)\n",
    "heights_arr[3] = 165\n",
    "heights_arr"
   ]
  },
  {
   "cell_type": "code",
   "execution_count": 17,
   "metadata": {},
   "outputs": [
    {
     "data": {
      "text/plain": [
       "array([[189, 170, 189, 165, 183, 171, 185, 168, 173, 183, 173, 173, 175,\n",
       "        178, 183, 193, 178, 173, 174, 183, 183, 180, 168, 180, 170, 178,\n",
       "        182, 180, 183, 178, 182, 188, 175, 179, 183, 193, 182, 183, 177,\n",
       "        185, 188, 188, 182, 185, 191],\n",
       "       [ 57,  61,  57,  57,  58,  57,  61,  54,  68,  51,  49,  64,  50,\n",
       "         48,  65,  52,  56,  46,  54,  49,  51,  47,  55,  55,  54,  42,\n",
       "         51,  56,  55,  51,  54,  51,  60,  62,  43,  55,  56,  61,  52,\n",
       "         69,  64,  46,  54,  47,  70]])"
      ]
     },
     "execution_count": 17,
     "metadata": {},
     "output_type": "execute_result"
    }
   ],
   "source": [
    "heights_and_ages_arr[0, 3] = 165\n",
    "heights_and_ages_arr"
   ]
  },
  {
   "cell_type": "code",
   "execution_count": 18,
   "metadata": {},
   "outputs": [
    {
     "data": {
      "text/plain": [
       "array([[180, 180, 180, 180, 180, 180, 180, 180, 180, 180, 180, 180, 180,\n",
       "        180, 180, 180, 180, 180, 180, 180, 180, 180, 180, 180, 180, 180,\n",
       "        180, 180, 180, 180, 180, 180, 180, 180, 180, 180, 180, 180, 180,\n",
       "        180, 180, 180, 180, 180, 180],\n",
       "       [ 57,  61,  57,  57,  58,  57,  61,  54,  68,  51,  49,  64,  50,\n",
       "         48,  65,  52,  56,  46,  54,  49,  51,  47,  55,  55,  54,  42,\n",
       "         51,  56,  55,  51,  54,  51,  60,  62,  43,  55,  56,  61,  52,\n",
       "         69,  64,  46,  54,  47,  70]])"
      ]
     },
     "execution_count": 18,
     "metadata": {},
     "output_type": "execute_result"
    }
   ],
   "source": [
    "heights_and_ages_arr[0,:] = 180\n",
    "heights_and_ages_arr"
   ]
  },
  {
   "cell_type": "code",
   "execution_count": 19,
   "metadata": {},
   "outputs": [
    {
     "data": {
      "text/plain": [
       "(45,)"
      ]
     },
     "execution_count": 19,
     "metadata": {},
     "output_type": "execute_result"
    }
   ],
   "source": [
    "ages_arr = np.array(ages)\n",
    "ages_arr.shape"
   ]
  },
  {
   "cell_type": "code",
   "execution_count": 20,
   "metadata": {},
   "outputs": [
    {
     "data": {
      "text/plain": [
       "(45,)"
      ]
     },
     "execution_count": 20,
     "metadata": {},
     "output_type": "execute_result"
    }
   ],
   "source": [
    "heights_arr.shape"
   ]
  },
  {
   "cell_type": "code",
   "execution_count": 21,
   "metadata": {},
   "outputs": [
    {
     "data": {
      "text/plain": [
       "array([[189, 170, 189, 165, 183, 171, 185, 168, 173, 183, 173, 173, 175,\n",
       "        178, 183, 193, 178, 173, 174, 183, 183, 180, 168, 180, 170, 178,\n",
       "        182, 180, 183, 178, 182, 188, 175, 179, 183, 193, 182, 183, 177,\n",
       "        185, 188, 188, 182, 185, 191],\n",
       "       [ 57,  61,  57,  57,  58,  57,  61,  54,  68,  51,  49,  64,  50,\n",
       "         48,  65,  52,  56,  46,  54,  49,  51,  47,  55,  55,  54,  42,\n",
       "         51,  56,  55,  51,  54,  51,  60,  62,  43,  55,  56,  61,  52,\n",
       "         69,  64,  46,  54,  47,  70]])"
      ]
     },
     "execution_count": 21,
     "metadata": {},
     "output_type": "execute_result"
    }
   ],
   "source": [
    "height_age_arr = np.vstack((heights_arr, ages_arr))\n",
    "height_age_arr"
   ]
  },
  {
   "cell_type": "code",
   "execution_count": 22,
   "metadata": {
    "scrolled": true
   },
   "outputs": [
    {
     "data": {
      "text/plain": [
       "array([[189,  57],\n",
       "       [170,  61],\n",
       "       [189,  57],\n",
       "       [165,  57],\n",
       "       [183,  58],\n",
       "       [171,  57],\n",
       "       [185,  61],\n",
       "       [168,  54],\n",
       "       [173,  68],\n",
       "       [183,  51],\n",
       "       [173,  49],\n",
       "       [173,  64],\n",
       "       [175,  50],\n",
       "       [178,  48],\n",
       "       [183,  65],\n",
       "       [193,  52],\n",
       "       [178,  56],\n",
       "       [173,  46],\n",
       "       [174,  54],\n",
       "       [183,  49],\n",
       "       [183,  51],\n",
       "       [180,  47],\n",
       "       [168,  55],\n",
       "       [180,  55],\n",
       "       [170,  54],\n",
       "       [178,  42],\n",
       "       [182,  51],\n",
       "       [180,  56],\n",
       "       [183,  55],\n",
       "       [178,  51],\n",
       "       [182,  54],\n",
       "       [188,  51],\n",
       "       [175,  60],\n",
       "       [179,  62],\n",
       "       [183,  43],\n",
       "       [193,  55],\n",
       "       [182,  56],\n",
       "       [183,  61],\n",
       "       [177,  52],\n",
       "       [185,  69],\n",
       "       [188,  64],\n",
       "       [188,  46],\n",
       "       [182,  54],\n",
       "       [185,  47],\n",
       "       [191,  70]])"
      ]
     },
     "execution_count": 22,
     "metadata": {},
     "output_type": "execute_result"
    }
   ],
   "source": [
    "height_age_arr = np.hstack((heights_arr.reshape(-1, 1), ages_arr.reshape(-1, 1)))\n",
    "height_age_arr"
   ]
  },
  {
   "cell_type": "markdown",
   "metadata": {},
   "source": [
    "`height_age_arr = np.concatenate((heights_arr, ages_arr), axis=1)  # hstack\n",
    "height_age_arr = np.concatenate((heights_arr, ages_arr), axis=0)  # vstack`"
   ]
  },
  {
   "cell_type": "markdown",
   "metadata": {},
   "source": [
    "Math operation on arrays"
   ]
  },
  {
   "cell_type": "code",
   "execution_count": 24,
   "metadata": {},
   "outputs": [
    {
     "data": {
      "text/plain": [
       "array([6.2007876, 5.577428 , 6.2007876, 5.413386 , 6.0039372, 5.6102364,\n",
       "       6.069554 , 5.5118112, 5.6758532, 6.0039372, 5.6758532, 5.6758532,\n",
       "       5.74147  , 5.8398952, 6.0039372, 6.3320212, 5.8398952, 5.6758532,\n",
       "       5.7086616, 6.0039372, 6.0039372, 5.905512 , 5.5118112, 5.905512 ,\n",
       "       5.577428 , 5.8398952, 5.9711288, 5.905512 , 6.0039372, 5.8398952,\n",
       "       5.9711288, 6.1679792, 5.74147  , 5.8727036, 6.0039372, 6.3320212,\n",
       "       5.9711288, 6.0039372, 5.8070868, 6.069554 , 6.1679792, 6.1679792,\n",
       "       5.9711288, 6.069554 , 6.2664044])"
      ]
     },
     "execution_count": 24,
     "metadata": {},
     "output_type": "execute_result"
    }
   ],
   "source": [
    "height_age_arr[:,0] * 0.0328084"
   ]
  },
  {
   "cell_type": "code",
   "execution_count": 26,
   "metadata": {},
   "outputs": [
    {
     "data": {
      "text/plain": [
       "10577"
      ]
     },
     "execution_count": 26,
     "metadata": {},
     "output_type": "execute_result"
    }
   ],
   "source": [
    "height_age_arr.sum()"
   ]
  },
  {
   "cell_type": "code",
   "execution_count": 29,
   "metadata": {},
   "outputs": [
    {
     "data": {
      "text/plain": [
       "array([8102, 2475])"
      ]
     },
     "execution_count": 29,
     "metadata": {},
     "output_type": "execute_result"
    }
   ],
   "source": [
    "height_age_arr.sum(axis=0)"
   ]
  },
  {
   "cell_type": "code",
   "execution_count": 30,
   "metadata": {},
   "outputs": [
    {
     "data": {
      "text/plain": [
       "array([False, False, False, False, False, False, False,  True, False,\n",
       "        True,  True, False,  True,  True, False,  True, False,  True,\n",
       "        True,  True,  True,  True, False, False,  True,  True,  True,\n",
       "       False, False,  True,  True,  True, False, False,  True, False,\n",
       "       False, False,  True, False, False,  True,  True,  True, False])"
      ]
     },
     "execution_count": 30,
     "metadata": {},
     "output_type": "execute_result"
    }
   ],
   "source": [
    "height_age_arr[:, 1] < 55"
   ]
  },
  {
   "cell_type": "code",
   "execution_count": 35,
   "metadata": {},
   "outputs": [
    {
     "data": {
      "text/plain": [
       "4"
      ]
     },
     "execution_count": 35,
     "metadata": {},
     "output_type": "execute_result"
    }
   ],
   "source": [
    "(height_age_arr[:, 1] == 55).sum()"
   ]
  },
  {
   "cell_type": "code",
   "execution_count": 40,
   "metadata": {},
   "outputs": [
    {
     "data": {
      "text/plain": [
       "23"
      ]
     },
     "execution_count": 40,
     "metadata": {},
     "output_type": "execute_result"
    }
   ],
   "source": [
    "mask = height_age_arr[:, 0] >= 182\n",
    "mask.sum()"
   ]
  },
  {
   "cell_type": "code",
   "execution_count": 41,
   "metadata": {
    "scrolled": true
   },
   "outputs": [
    {
     "name": "stdout",
     "output_type": "stream",
     "text": [
      "(23, 2)\n"
     ]
    },
    {
     "data": {
      "text/plain": [
       "array([[189,  57],\n",
       "       [189,  57],\n",
       "       [183,  58],\n",
       "       [185,  61],\n",
       "       [183,  51],\n",
       "       [183,  65],\n",
       "       [193,  52],\n",
       "       [183,  49],\n",
       "       [183,  51],\n",
       "       [182,  51],\n",
       "       [183,  55],\n",
       "       [182,  54],\n",
       "       [188,  51],\n",
       "       [183,  43],\n",
       "       [193,  55],\n",
       "       [182,  56],\n",
       "       [183,  61],\n",
       "       [185,  69],\n",
       "       [188,  64],\n",
       "       [188,  46],\n",
       "       [182,  54],\n",
       "       [185,  47],\n",
       "       [191,  70]])"
      ]
     },
     "execution_count": 41,
     "metadata": {},
     "output_type": "execute_result"
    }
   ],
   "source": [
    "tall_presidents = height_age_arr[mask,]\n",
    "print(tall_presidents.shape)\n",
    "tall_presidents"
   ]
  },
  {
   "cell_type": "code",
   "execution_count": 45,
   "metadata": {},
   "outputs": [
    {
     "data": {
      "text/plain": [
       "array([[183,  49],\n",
       "       [183,  43],\n",
       "       [188,  46],\n",
       "       [185,  47]])"
      ]
     },
     "execution_count": 45,
     "metadata": {},
     "output_type": "execute_result"
    }
   ],
   "source": [
    "mask = (height_age_arr[:, 0]>=182) & (height_age_arr[:,1]<=50)\n",
    "height_age_arr[mask,]"
   ]
  },
  {
   "cell_type": "markdown",
   "metadata": {},
   "source": [
    "* | or\n",
    "* & and"
   ]
  }
 ],
 "metadata": {
  "kernelspec": {
   "display_name": "Python 3",
   "language": "python",
   "name": "python3"
  },
  "language_info": {
   "codemirror_mode": {
    "name": "ipython",
    "version": 3
   },
   "file_extension": ".py",
   "mimetype": "text/x-python",
   "name": "python",
   "nbconvert_exporter": "python",
   "pygments_lexer": "ipython3",
   "version": "3.8.3"
  }
 },
 "nbformat": 4,
 "nbformat_minor": 4
}
